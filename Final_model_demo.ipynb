{
  "nbformat": 4,
  "nbformat_minor": 0,
  "metadata": {
    "language_info": {
      "codemirror_mode": {
        "name": "ipython",
        "version": 3
      },
      "file_extension": ".py",
      "mimetype": "text/x-python",
      "name": "python",
      "nbconvert_exporter": "python",
      "pygments_lexer": "ipython3",
      "version": "3.8.2-final"
    },
    "orig_nbformat": 2,
    "kernelspec": {
      "name": "python3",
      "display_name": "Python 3"
    },
    "colab": {
      "name": "Final_model_demo.ipynb",
      "provenance": [],
      "collapsed_sections": [],
      "include_colab_link": true
    }
  },
  "cells": [
    {
      "cell_type": "markdown",
      "metadata": {
        "id": "view-in-github",
        "colab_type": "text"
      },
      "source": [
        "<a href=\"https://colab.research.google.com/github/rdose/ia3-hunger_games/blob/main/Final_model_demo.ipynb\" target=\"_parent\"><img src=\"https://colab.research.google.com/assets/colab-badge.svg\" alt=\"Open In Colab\"/></a>"
      ]
    },
    {
      "cell_type": "markdown",
      "metadata": {
        "id": "d5A4yLGCKImt"
      },
      "source": [
        "# Final Model : XGBOOST\n",
        "---"
      ]
    },
    {
      "cell_type": "markdown",
      "metadata": {
        "id": "9fwMLqraKImt"
      },
      "source": [
        "\n",
        "# LOS TRES TENSORES\n",
        "- Pedro Dimas Martínez\n",
        "- Juan Contell Husillos\n",
        "- Rafael Domenech Serrano"
      ]
    },
    {
      "cell_type": "markdown",
      "metadata": {
        "id": "vl1xDPU_KImt"
      },
      "source": [
        "# Starting point\n",
        "---"
      ]
    },
    {
      "cell_type": "code",
      "metadata": {
        "id": "HQzPBEubKImt"
      },
      "source": [
        "import numpy as np\n",
        "np.random.seed(989)\n",
        "import pandas as pd\n",
        "from sklearn.model_selection import train_test_split\n",
        "from sklearn.preprocessing import StandardScaler"
      ],
      "execution_count": 1,
      "outputs": []
    },
    {
      "cell_type": "code",
      "metadata": {
        "id": "CEqU-OGhKdxW"
      },
      "source": [
        "url = \"https://raw.githubusercontent.com/CuadraAlconero/IDAL_IA3_CuadraAlconero/main/hunger_data.csv\"\n",
        "dataframe = pd.read_csv(url, header=0)\n",
        "dataframe.drop(\"Unnamed: 0\", axis=1, inplace=True)\n",
        "dataframe.columns = [\"refractive_index\", \"sodium\", \"magnesium\", \"aluminum\", \"silicon\", \"potassium\", \"calcium\", \"barium\", \"iron\", \"type_of_glass\"]\n",
        "\n",
        "X = dataframe.drop(columns=\"type_of_glass\") #Features\n",
        "y = dataframe[\"type_of_glass\"] #Target\n",
        "\n",
        "X_train, X_test, y_train, y_test = train_test_split(X, y)"
      ],
      "execution_count": 2,
      "outputs": []
    },
    {
      "cell_type": "markdown",
      "metadata": {
        "id": "KgG2VuaXKImu"
      },
      "source": [
        "# The Model\n",
        "---"
      ]
    },
    {
      "cell_type": "markdown",
      "metadata": {
        "id": "TsDusOpQZeJf"
      },
      "source": [
        "We choosed a quite simply XGBoost Classifier for modeling this dataset predictions.\n",
        "\n",
        "We've setted max_depth=5 for avoiding overfitting. There are other 3 params for providing XGBoost some kind of regularization: min_child_weight and gamma. Here's a post of Laurae that explains this overfitting avoiding parameters. https://www.kaggle.com/c/santander-customer-satisfaction/discussion/20662"
      ]
    },
    {
      "cell_type": "code",
      "metadata": {
        "colab": {
          "base_uri": "https://localhost:8080/"
        },
        "id": "mSugF3XxKImu",
        "outputId": "4b2d7cf1-15e8-4072-9bfa-c2475615908a"
      },
      "source": [
        "from xgboost.sklearn import XGBClassifier\n",
        "\n",
        "model_xgb = XGBClassifier(objective='multi:softmax',\n",
        "                          num_class=6,\n",
        "                          max_depth=5)\n",
        "\n",
        "#Given the tiny amount of data left we can't afford to train the algorithm with a validation set :(\n",
        "model_xgb.fit(X_train, y_train)\n"
      ],
      "execution_count": 3,
      "outputs": [
        {
          "output_type": "execute_result",
          "data": {
            "text/plain": [
              "XGBClassifier(base_score=0.5, booster='gbtree', colsample_bylevel=1,\n",
              "              colsample_bynode=1, colsample_bytree=1, gamma=0,\n",
              "              learning_rate=0.1, max_delta_step=0, max_depth=5,\n",
              "              min_child_weight=1, missing=None, n_estimators=150, n_jobs=1,\n",
              "              nthread=None, num_class=6, objective='multi:softprob',\n",
              "              random_state=0, reg_alpha=0, reg_lambda=1, scale_pos_weight=1,\n",
              "              seed=None, silent=None, subsample=1, verbosity=1)"
            ]
          },
          "metadata": {
            "tags": []
          },
          "execution_count": 3
        }
      ]
    },
    {
      "cell_type": "markdown",
      "metadata": {
        "id": "XBfiS7N0KImu"
      },
      "source": [
        "# Model release\n",
        "---"
      ]
    },
    {
      "cell_type": "markdown",
      "metadata": {
        "id": "1gfgBGAcbIfX"
      },
      "source": [
        "Note the importance of saving this model trained under seed=989 because this seed grants us a right train/test splitting as is explained later."
      ]
    },
    {
      "cell_type": "code",
      "metadata": {
        "id": "a5En9FsAKImu"
      },
      "source": [
        "import pickle\n",
        "\n",
        "pickl = {'info' : \" XGBOOST Classifier\\n\" +\n",
        "                  \" - Usage: install xgboost package and use with sklearn api:\\n\"\n",
        "                  \"      from xgboost.sklearn import XGBClassifier\\n\"\n",
        "                  \" - This model does not require any standarisation.\\n\" + \n",
        "                  \" - Trained with \" + str(X_train.shape[0]) + \" samples\\n\" +\n",
        "                  \" - Tested with \" + str(X_test.shape[0]) + \" samples\\n\",\n",
        "        'model': model_xgb}\n",
        "pickle.dump(pickl, open('hg_los_tres_tensores'+'.p','wb'))\n"
      ],
      "execution_count": 4,
      "outputs": []
    },
    {
      "cell_type": "code",
      "metadata": {
        "colab": {
          "base_uri": "https://localhost:8080/"
        },
        "id": "z9KLzBAIKImu",
        "outputId": "ebf1e452-4fad-40cd-e565-192196f4d8ae"
      },
      "source": [
        "#Verify pickle\n",
        "file_name = 'hg_los_tres_tensores.p'\n",
        "with open(file_name,'rb') as pickled:\n",
        "    data = pickle.load(pickled)\n",
        "    infop =  data['info']\n",
        "    modelp = data['model']\n",
        "print(infop)\n",
        "print(modelp)"
      ],
      "execution_count": 5,
      "outputs": [
        {
          "output_type": "stream",
          "text": [
            " XGBOOST Classifier\n",
            " - Usage: install xgboost package and use with sklearn api:\n",
            "      from xgboost.sklearn import XGBClassifier\n",
            " - This model does not require any standarisation.\n",
            " - Trained with 87 samples\n",
            " - Tested with 30 samples\n",
            "\n",
            "XGBClassifier(base_score=0.5, booster='gbtree', colsample_bylevel=1,\n",
            "              colsample_bynode=1, colsample_bytree=1, gamma=0,\n",
            "              learning_rate=0.1, max_delta_step=0, max_depth=5,\n",
            "              min_child_weight=1, missing=nan, n_estimators=150, n_jobs=1,\n",
            "              nthread=None, num_class=6, objective='multi:softprob',\n",
            "              random_state=0, reg_alpha=0, reg_lambda=1, scale_pos_weight=1,\n",
            "              seed=None, silent=None, subsample=1, verbosity=1)\n"
          ],
          "name": "stdout"
        }
      ]
    },
    {
      "cell_type": "markdown",
      "metadata": {
        "id": "PYHzLPeiKImu"
      },
      "source": [
        "---\n",
        "## Auxiliary functions\n",
        "In order to execute this notebook the following cell needs to be executed before the previous cell. "
      ]
    },
    {
      "cell_type": "code",
      "metadata": {
        "id": "J_mUNSbaKImu"
      },
      "source": [
        "def print_scores(model, X_train, X_test, Y_train, Y_test, model_name='[no name]'):\n",
        "    from sklearn.metrics import f1_score, balanced_accuracy_score\n",
        "\n",
        "    Y_pred = model.predict(X_test)\n",
        "    print(\" \"*15,model_name)\n",
        "    print(\"Default score:\",\"-\"*70)\n",
        "    print(\" Train: %.3f\" % model.score(X_train, Y_train))\n",
        "    print(\" Test: %.3f\" % model.score(X_test, Y_test))\n",
        "    print(\"Other scores:\",\"-\"*70)\n",
        "    print(\" \"*12,model.classes_)\n",
        "    print(\" F1: \", f1_score(Y_test,Y_pred,average=None))\n",
        "    print(\" Balanced accuracy: %.3f\" % balanced_accuracy_score(Y_test,Y_pred))\n",
        "    print(\"-\"*85)\n",
        "\n",
        "def plot_roc(model, X_test, Y_test):\n",
        "    from sklearn.metrics import roc_curve, roc_auc_score, auc\n",
        "    \n",
        "    from scipy import interp\n",
        "    import matplotlib.pyplot as plt\n",
        "    from itertools import cycle\n",
        "    from sklearn.preprocessing import label_binarize    # Let's binarise the classes\n",
        "\n",
        "\n",
        "    new_probs = label_binarize(Y_test, classes=[1, 2, 3, 5, 6, 7])\n",
        "\n",
        "    y_score = model.predict_proba(X_test) #model.decision_function(X_test)\n",
        "    n_classes = len(model.classes_)\n",
        "    # Compute ROC curve and ROC area for each class\n",
        "    fpr = dict()\n",
        "    tpr = dict()\n",
        "    roc_auc = dict()\n",
        "    for i in range(n_classes):\n",
        "        fpr[i], tpr[i], _ = roc_curve(new_probs[:, i], list(model.predict_proba(X_test)[:, i]), drop_intermediate=False)\n",
        "        roc_auc[i] = auc(fpr[i], tpr[i])\n",
        "      \n",
        "    # First aggregate all false positive rates\n",
        "    all_fpr = np.unique(np.concatenate([fpr[i] for i in range(n_classes)]))\n",
        "\n",
        "    # Then interpolate all ROC curves at this points\n",
        "    mean_tpr = np.zeros_like(all_fpr)\n",
        "    for i in range(n_classes):\n",
        "        mean_tpr += interp(all_fpr, fpr[i], tpr[i])\n",
        "\n",
        "    # Finally average it and compute AUC\n",
        "    mean_tpr /= n_classes\n",
        "\n",
        "    # Plot all ROC curves\n",
        "    plt.figure(figsize=(10,8))\n",
        "\n",
        "    colors = cycle(['aqua', 'darkorange', 'cornflowerblue', 'limegreen', 'darkorchid', 'peru'])\n",
        "    for i, color in zip(range(n_classes), colors):\n",
        "        plt.plot(fpr[i], tpr[i], color=color, lw=2,\n",
        "                label='ROC curve of class {0} (area = {1:0.2f})'\n",
        "                ''.format(model.classes_[i], roc_auc[i]))\n",
        "\n",
        "    plt.plot([0, 1], [0, 1], 'k--', lw=2)\n",
        "    plt.xlim([0.0, 1.0])\n",
        "    plt.ylim([0.0, 1.05])\n",
        "    plt.xlabel('False Positive Rate')\n",
        "    plt.ylabel('True Positive Rate')\n",
        "    plt.title('ROC curve for each class')\n",
        "    plt.legend(loc=\"lower right\")\n",
        "    plt.show()"
      ],
      "execution_count": 6,
      "outputs": []
    },
    {
      "cell_type": "markdown",
      "metadata": {
        "id": "tZdX3PmPUIuo"
      },
      "source": [
        "## Model performance\n",
        "---"
      ]
    },
    {
      "cell_type": "code",
      "metadata": {
        "colab": {
          "base_uri": "https://localhost:8080/",
          "height": 717
        },
        "id": "wMFZpON7TZSw",
        "outputId": "026aa5e0-eb6b-46da-e8da-abf19e931f0d"
      },
      "source": [
        "np.random.seed(123)\n",
        "\n",
        "X = dataframe.drop(columns=\"type_of_glass\") #Features\n",
        "y = dataframe[\"type_of_glass\"] #Target\n",
        "\n",
        "X_train, X_test, y_train, y_test = train_test_split(X, y)\n",
        "\n",
        "\n",
        "print_scores(modelp, X_train, X_test, y_train, y_test, '[ XGBOOST ]')\n",
        "plot_roc(model_xgb, X_test, y_test)\n",
        "\n"
      ],
      "execution_count": 7,
      "outputs": [
        {
          "output_type": "stream",
          "text": [
            "                [ XGBOOST ]\n",
            "Default score: ----------------------------------------------------------------------\n",
            " Train: 0.931\n",
            " Test: 0.933\n",
            "Other scores: ----------------------------------------------------------------------\n",
            "             [1 2 3 5 6 7]\n",
            " F1:  [0.93333333 0.88888889 1.         1.         1.        ]\n",
            " Balanced accuracy: 0.960\n",
            "-------------------------------------------------------------------------------------\n"
          ],
          "name": "stdout"
        },
        {
          "output_type": "stream",
          "text": [
            "/usr/local/lib/python3.6/dist-packages/sklearn/metrics/_ranking.py:808: UndefinedMetricWarning: No positive samples in y_true, true positive value should be meaningless\n",
            "  UndefinedMetricWarning)\n",
            "/usr/local/lib/python3.6/dist-packages/ipykernel_launcher.py:42: DeprecationWarning: scipy.interp is deprecated and will be removed in SciPy 2.0.0, use numpy.interp instead\n"
          ],
          "name": "stderr"
        },
        {
          "output_type": "display_data",
          "data": {
            "image/png": "[encoded data removed]",
            "text/plain": [
              "<Figure size 720x576 with 1 Axes>"
            ]
          },
          "metadata": {
            "tags": [],
            "needs_background": "light"
          }
        }
      ]
    },
    {
      "cell_type": "markdown",
      "metadata": {
        "id": "ekN-kNRmVLqH"
      },
      "source": [
        "# Summary of models and strategies that we've tried:\n",
        "---"
      ]
    },
    {
      "cell_type": "markdown",
      "metadata": {
        "id": "vlXVTfr2MCQg"
      },
      "source": [
        "## Develop path \n",
        "\n",
        "We started with an analisys of our dataframe. We checked nulls and made some feature representation. Also, we choosed the right seed for achieveing a nice train/test spliting. We needed our train/test split to contain at least one sample of each class so then we could assert that our score results are rights. \n",
        "\n",
        "Once we had our dataframe described and a right train/test split we set a default logistic regression model as benchmark. At first we started using a decission tree model as benchmark, but we realized that it needed some hyperparameter tunning because decission trees always overfits the model. \n",
        "\n",
        "Then, each contributor took his own developing path and we compared results frequently. You can see the whole development process on draft folder of this repo."
      ]
    },
    {
      "cell_type": "markdown",
      "metadata": {
        "id": "0xNOiDp2ZGZg"
      },
      "source": [
        "### Normalization\n",
        "\n"
      ]
    },
    {
      "cell_type": "markdown",
      "metadata": {
        "id": "Ivokn7tYddOf"
      },
      "source": [
        "We tried a wide variety of normalizations but no one guided us to a significant better results than benchmark ones"
      ]
    },
    {
      "cell_type": "code",
      "metadata": {
        "colab": {
          "base_uri": "https://localhost:8080/"
        },
        "id": "SEpORn_eKImu",
        "outputId": "bfbb9f8d-1871-4667-a277-03ac2a42603a"
      },
      "source": [
        "from sklearn.preprocessing import StandardScaler, MinMaxScaler, RobustScaler, PowerTransformer\n",
        "from sklearn.linear_model import LogisticRegression\n",
        "\n",
        "def normalize_and_print_score(scaler, model, X_train, X_test, Y_train, Y_test, model_name=\"\"):\n",
        "  X_train_norm = X_train.copy()\n",
        "  X_test_norm = X_test.copy()\n",
        "\n",
        "  X_train_norm = scaler.fit_transform(X_train)\n",
        "  X_test_norm = scaler.transform(X_test)\n",
        "  \n",
        "  model.fit(X_train_norm, Y_train)\n",
        "  print_scores(model, X_train_norm, X_test_norm, Y_train, Y_test, model_name)\n",
        "\n",
        "def relative_norm(df):\n",
        "  norm_df = df.copy()\n",
        "  for i in range(len(norm_df)):\n",
        "    norm_df.iloc[i,:] = norm_df.iloc[i,:]/norm_df.iloc[0,:].sum()\n",
        "  return norm_df\n",
        "\n",
        "model = LogisticRegression(max_iter=1500)\n",
        "\n",
        "scaler = StandardScaler()\n",
        "normalize_and_print_score(scaler, model, X_train, X_test, y_train, y_test, model_name=\"LOG REG STD SCALER\")\n",
        "\n",
        "scaler = MinMaxScaler()\n",
        "normalize_and_print_score(scaler, model, X_train, X_test, y_train, y_test, model_name=\"LOG REG MINMAX SCALER\")\n",
        "\n",
        "scaler = RobustScaler()\n",
        "normalize_and_print_score(scaler, model, X_train, X_test, y_train, y_test, model_name=\"LOG REG ROBUST SCALER\")\n",
        "\n",
        "scaler = PowerTransformer()\n",
        "normalize_and_print_score(scaler, model, X_train, X_test, y_train, y_test, model_name=\"LOG REG POWER TRANSFORMER\")\n",
        "\n",
        "X_train_norm = relative_norm(X_train)\n",
        "X_test_norm = relative_norm(X_test)\n",
        "model = LogisticRegression(max_iter=15000).fit(X_train_norm, y_train)\n",
        "print_scores(model, X_train_norm, X_test_norm, y_train, y_test, model_name=\"LOG REG RELATIVE NORM\")\n",
        "\n",
        "model = LogisticRegression(max_iter=15000).fit(X_train, y_train)\n",
        "print_scores(model, X_train, X_test, y_train, y_test, model_name=\"BENCHMARK: LOG REG\")"
      ],
      "execution_count": 8,
      "outputs": [
        {
          "output_type": "stream",
          "text": [
            "                LOG REG STD SCALER\n",
            "Default score: ----------------------------------------------------------------------\n",
            " Train: 0.713\n",
            " Test: 0.633\n",
            "Other scores: ----------------------------------------------------------------------\n",
            "             [1 2 3 5 6 7]\n",
            " F1:  [0.66666667 0.6        0.         0.         1.         0.85714286]\n",
            " Balanced accuracy: 0.599\n",
            "-------------------------------------------------------------------------------------\n",
            "                LOG REG MINMAX SCALER\n",
            "Default score: ----------------------------------------------------------------------\n",
            " Train: 0.540\n",
            " Test: 0.667\n",
            "Other scores: ----------------------------------------------------------------------\n",
            "             [1 2 3 5 6 7]\n",
            " F1:  [0.75862069 0.57142857 0.         0.         0.75      ]\n",
            " Balanced accuracy: 0.427\n",
            "-------------------------------------------------------------------------------------\n",
            "                LOG REG ROBUST SCALER\n",
            "Default score: ----------------------------------------------------------------------\n",
            " Train: 0.724\n",
            " Test: 0.600\n",
            "Other scores: ----------------------------------------------------------------------\n",
            "             [1 2 3 5 6 7]\n",
            " F1:  [0.61538462 0.57142857 0.         0.         1.         0.85714286]\n",
            " Balanced accuracy: 0.584\n",
            "-------------------------------------------------------------------------------------\n",
            "                LOG REG POWER TRANSFORMER\n",
            "Default score: ----------------------------------------------------------------------\n",
            " Train: 0.678\n",
            " Test: 0.633\n",
            "Other scores: ----------------------------------------------------------------------\n",
            "             [1 2 3 5 6 7]\n",
            " F1:  [0.73333333 0.47058824 0.         1.         0.66666667]\n",
            " Balanced accuracy: 0.587\n",
            "-------------------------------------------------------------------------------------\n"
          ],
          "name": "stdout"
        },
        {
          "output_type": "stream",
          "text": [
            "/usr/local/lib/python3.6/dist-packages/sklearn/metrics/_classification.py:1859: UserWarning: y_pred contains classes not in y_true\n",
            "  warnings.warn('y_pred contains classes not in y_true')\n",
            "/usr/local/lib/python3.6/dist-packages/sklearn/metrics/_classification.py:1859: UserWarning: y_pred contains classes not in y_true\n",
            "  warnings.warn('y_pred contains classes not in y_true')\n",
            "/usr/local/lib/python3.6/dist-packages/sklearn/preprocessing/_data.py:2982: RuntimeWarning: divide by zero encountered in log\n",
            "  loglike = -n_samples / 2 * np.log(x_trans.var())\n"
          ],
          "name": "stderr"
        },
        {
          "output_type": "stream",
          "text": [
            "                LOG REG RELATIVE NORM\n",
            "Default score: ----------------------------------------------------------------------\n",
            " Train: 0.667\n",
            " Test: 0.633\n",
            "Other scores: ----------------------------------------------------------------------\n",
            "             [1 2 3 5 6 7]\n",
            " F1:  [0.68965517 0.52631579 0.         1.         0.75      ]\n",
            " Balanced accuracy: 0.593\n",
            "-------------------------------------------------------------------------------------\n",
            "                BENCHMARK: LOG REG\n",
            "Default score: ----------------------------------------------------------------------\n",
            " Train: 0.644\n",
            " Test: 0.633\n",
            "Other scores: ----------------------------------------------------------------------\n",
            "             [1 2 3 5 6 7]\n",
            " F1:  [0.68965517 0.52631579 0.         0.         1.         0.85714286]\n",
            " Balanced accuracy: 0.593\n",
            "-------------------------------------------------------------------------------------\n"
          ],
          "name": "stdout"
        },
        {
          "output_type": "stream",
          "text": [
            "/usr/local/lib/python3.6/dist-packages/sklearn/metrics/_classification.py:1859: UserWarning: y_pred contains classes not in y_true\n",
            "  warnings.warn('y_pred contains classes not in y_true')\n"
          ],
          "name": "stderr"
        }
      ]
    },
    {
      "cell_type": "markdown",
      "metadata": {
        "id": "T1dghWX3e4_3"
      },
      "source": [
        "### 1vsRest"
      ]
    },
    {
      "cell_type": "markdown",
      "metadata": {
        "id": "jL17ptBce-hf"
      },
      "source": [
        "We observed that there were models based on decission trees, which could perform a good classification but they ussually didn't get a good classification for one concrete class. We thought that could try to classify first one class and then train model for predict the rest of classes."
      ]
    },
    {
      "cell_type": "code",
      "metadata": {
        "colab": {
          "base_uri": "https://localhost:8080/"
        },
        "id": "8qdDKLRgdAzo",
        "outputId": "de7fd17f-02dc-41fe-c155-17167c4e896e"
      },
      "source": [
        "from sklearn.tree import DecisionTreeClassifier\n",
        "\n",
        "def to_1_vs_all(Y, class_num):\n",
        "  Y_class = Y.copy()\n",
        "  Y_class[Y_class == class_num] = 0\n",
        "  Y_class[(Y_class != class_num) & (Y_class != 0)] = 1\n",
        "  return Y_class\n",
        "\n",
        "Y_train_class3 = to_1_vs_all(y_train, 3)\n",
        "Y_test_class3 = to_1_vs_all(y_test, 3)\n",
        "\n",
        "model1 = DecisionTreeClassifier(criterion=\"entropy\", max_depth=15, min_samples_leaf=3).fit(X_train, Y_train_class3)\n",
        "\n",
        "X_class3 = X_train.copy()\n",
        "X_class3['y_pred'] = model1.predict(X_class3)\n",
        "\n",
        "mask = X_class3['y_pred']!=0\n",
        "X_class3 = X_class3[mask]\n",
        "X_class3.drop(columns='y_pred', inplace=True)\n",
        "Y_class3 = y_train[mask]\n",
        "\n",
        "model2 = DecisionTreeClassifier(criterion=\"entropy\", max_depth=15, min_samples_leaf=3).fit(X_class3, Y_class3)  \n",
        "print_scores(model2, X_train, X_test, y_train, y_test, \"1vsRest class3\")"
      ],
      "execution_count": 9,
      "outputs": [
        {
          "output_type": "stream",
          "text": [
            "                1vsRest class3\n",
            "Default score: ----------------------------------------------------------------------\n",
            " Train: 0.782\n",
            " Test: 0.733\n",
            "Other scores: ----------------------------------------------------------------------\n",
            "             [1 2 3 5 6 7]\n",
            " F1:  [0.72727273 0.72       0.5        1.         0.85714286]\n",
            " Balanced accuracy: 0.844\n",
            "-------------------------------------------------------------------------------------\n"
          ],
          "name": "stdout"
        }
      ]
    },
    {
      "cell_type": "code",
      "metadata": {
        "id": "D18qWXKdgGZQ"
      },
      "source": [
        ""
      ],
      "execution_count": 9,
      "outputs": []
    }
  ]
}